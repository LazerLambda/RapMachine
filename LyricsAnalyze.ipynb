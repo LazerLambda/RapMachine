{
 "cells": [
  {
   "cell_type": "markdown",
   "metadata": {},
   "source": [
    "# Lyrics Data Analysis"
   ]
  },
  {
   "cell_type": "markdown",
   "metadata": {},
   "source": [
    "### IMPORTS"
   ]
  },
  {
   "cell_type": "code",
   "execution_count": 1,
   "metadata": {},
   "outputs": [],
   "source": [
    "from collections import Counter\n",
    "import json\n",
    "import re\n",
    "import fasttext"
   ]
  },
  {
   "cell_type": "markdown",
   "metadata": {},
   "source": [
    "### Load File"
   ]
  },
  {
   "cell_type": "code",
   "execution_count": 2,
   "metadata": {},
   "outputs": [
    {
     "name": "stdout",
     "output_type": "stream",
     "text": [
      "Success.\n"
     ]
    }
   ],
   "source": [
    "data = None\n",
    "with open('/home/phil/Documents/Uni/WiSe21_22/CL/CK/RapMachine/lyrics.json') as json_file:\n",
    "    data = json.load(json_file)\n",
    "if data is not None:\n",
    "    print('Success.')\n",
    "else:\n",
    "    print('Could not read file.')\n",
    "    "
   ]
  },
  {
   "cell_type": "markdown",
   "metadata": {},
   "source": [
    "# Create  Raps"
   ]
  },
  {
   "cell_type": "code",
   "execution_count": 3,
   "metadata": {},
   "outputs": [],
   "source": [
    "raps: list = list()\n",
    "for key in data.keys():\n",
    "    if key != 'interrupted':\n",
    "        raps += data[key]\n",
    "    else:\n",
    "        continue\n"
   ]
  },
  {
   "cell_type": "markdown",
   "metadata": {},
   "source": [
    "## Clean text"
   ]
  },
  {
   "cell_type": "markdown",
   "metadata": {},
   "source": [
    "### Remove all non-english texts"
   ]
  },
  {
   "cell_type": "code",
   "execution_count": 4,
   "metadata": {},
   "outputs": [
    {
     "name": "stderr",
     "output_type": "stream",
     "text": [
      "Warning : `load_model` does not return WordVectorModel or SupervisedModel any more, but a `FastText` object which is very similar.\n"
     ]
    }
   ],
   "source": [
    "fmodel = fasttext.load_model('lid.176.bin')"
   ]
  },
  {
   "cell_type": "code",
   "execution_count": 5,
   "metadata": {},
   "outputs": [],
   "source": [
    "en_only = list()\n",
    "for rap in raps:\n",
    "    processed = re.sub(r'\\n', '', rap)\n",
    "    # detect language for each rap\n",
    "    res = fmodel.predict(processed)[0][0]\n",
    "    if res == '__label__en':\n",
    "        en_only.append(rap)\n",
    "raps = en_only\n",
    "del en_only"
   ]
  },
  {
   "cell_type": "markdown",
   "metadata": {},
   "source": [
    "### Remove brackets and respective text inside"
   ]
  },
  {
   "cell_type": "code",
   "execution_count": 10,
   "metadata": {},
   "outputs": [],
   "source": [
    "regex_brackets: str = r\"\\[([-+&/\\\"'A-Za-z0-9_,\\.;\\s:()Ē?’$éöč!#*–ã“”{}Ž]+)\\]|\\[\\]\"\n",
    "\n",
    "for i, rap in enumerate(raps):\n",
    "    raps[i] = re.sub(regex_brackets, \"\", rap)"
   ]
  },
  {
   "cell_type": "code",
   "execution_count": 11,
   "metadata": {},
   "outputs": [],
   "source": [
    "escaped = list()\n",
    "for rap in raps:\n",
    "    if bool(re.match(r'\\[(.*)\\]', rap)):\n",
    "        escaped.append(rap)\n",
    "        print(rap)\n",
    "\n",
    "assert len(escaped) == 0, 'Texts not cleaned yet!'"
   ]
  },
  {
   "cell_type": "markdown",
   "metadata": {},
   "source": [
    "### Remove empty lines"
   ]
  },
  {
   "cell_type": "code",
   "execution_count": 12,
   "metadata": {},
   "outputs": [],
   "source": [
    "for i, rap in enumerate(raps):\n",
    "    raps[i] = re.sub(r\"\\n{2,}\", '', rap)\n"
   ]
  },
  {
   "cell_type": "markdown",
   "metadata": {},
   "source": [
    "# Statistics"
   ]
  },
  {
   "cell_type": "markdown",
   "metadata": {},
   "source": [
    "### Load problematic words"
   ]
  },
  {
   "cell_type": "code",
   "execution_count": 17,
   "metadata": {},
   "outputs": [],
   "source": [
    "with open('/home/phil/Documents/Uni/WiSe21_22/CL/CK/RapMachine/OffWords.txt', 'r') as file:\n",
    "    while (line := file.readline().rstrip()):\n",
    "        print(line)\n"
   ]
  },
  {
   "cell_type": "markdown",
   "metadata": {},
   "source": [
    "### Count often occuring words"
   ]
  }
 ],
 "metadata": {
  "interpreter": {
   "hash": "916dbcbb3f70747c44a77c7bcd40155683ae19c65e1c03b4aa3499c5328201f1"
  },
  "kernelspec": {
   "display_name": "Python 3.8.10 64-bit",
   "language": "python",
   "name": "python3"
  },
  "language_info": {
   "codemirror_mode": {
    "name": "ipython",
    "version": 3
   },
   "file_extension": ".py",
   "mimetype": "text/x-python",
   "name": "python",
   "nbconvert_exporter": "python",
   "pygments_lexer": "ipython3",
   "version": "3.8.10"
  },
  "orig_nbformat": 4
 },
 "nbformat": 4,
 "nbformat_minor": 2
}
